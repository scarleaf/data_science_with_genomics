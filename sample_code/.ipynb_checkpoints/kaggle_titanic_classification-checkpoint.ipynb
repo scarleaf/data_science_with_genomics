{
 "cells": [
  {
   "cell_type": "code",
   "execution_count": 72,
   "metadata": {},
   "outputs": [],
   "source": [
    "import numpy as np\n",
    "import pandas as pd\n",
    "\n",
    "from sklearn import svm\n",
    "\n",
    "from sklearn.model_selection import train_test_split\n",
    "from sklearn.metrics import accuracy_score, auc, confusion_matrix, precision_score, recall_score, f1_score\n",
    "from sklearn.metrics import classification_report\n",
    "from sklearn import preprocessing\n",
    "\n",
    "import warnings\n",
    "warnings.filterwarnings(\"ignore\")"
   ]
  },
  {
   "cell_type": "code",
   "execution_count": 73,
   "metadata": {},
   "outputs": [],
   "source": [
    "train = \"../data/titanic/train.csv\"\n",
    "test = \"../data/titanic/test.csv\""
   ]
  },
  {
   "cell_type": "code",
   "execution_count": 74,
   "metadata": {},
   "outputs": [],
   "source": [
    "dfTrain = pd.read_csv(train)\n",
    "dfTest = pd.read_csv(train)"
   ]
  },
  {
   "cell_type": "code",
   "execution_count": 75,
   "metadata": {},
   "outputs": [],
   "source": [
    "lDrop = [\"PassengerId\", \"Name\", \"Ticket\", \"Cabin\", \"Embarked\"]\n",
    "dfTrain.drop(lDrop, axis=1, inplace=True)\n",
    "dfTest.drop(lDrop, axis=1, inplace=True)"
   ]
  },
  {
   "cell_type": "code",
   "execution_count": 76,
   "metadata": {},
   "outputs": [
    {
     "data": {
      "text/html": [
       "<div>\n",
       "<style scoped>\n",
       "    .dataframe tbody tr th:only-of-type {\n",
       "        vertical-align: middle;\n",
       "    }\n",
       "\n",
       "    .dataframe tbody tr th {\n",
       "        vertical-align: top;\n",
       "    }\n",
       "\n",
       "    .dataframe thead th {\n",
       "        text-align: right;\n",
       "    }\n",
       "</style>\n",
       "<table border=\"1\" class=\"dataframe\">\n",
       "  <thead>\n",
       "    <tr style=\"text-align: right;\">\n",
       "      <th></th>\n",
       "      <th>Survived</th>\n",
       "      <th>Pclass</th>\n",
       "      <th>Sex</th>\n",
       "      <th>Age</th>\n",
       "      <th>SibSp</th>\n",
       "      <th>Parch</th>\n",
       "      <th>Fare</th>\n",
       "    </tr>\n",
       "  </thead>\n",
       "  <tbody>\n",
       "    <tr>\n",
       "      <th>0</th>\n",
       "      <td>0</td>\n",
       "      <td>3</td>\n",
       "      <td>male</td>\n",
       "      <td>22.0</td>\n",
       "      <td>1</td>\n",
       "      <td>0</td>\n",
       "      <td>7.2500</td>\n",
       "    </tr>\n",
       "    <tr>\n",
       "      <th>1</th>\n",
       "      <td>1</td>\n",
       "      <td>1</td>\n",
       "      <td>female</td>\n",
       "      <td>38.0</td>\n",
       "      <td>1</td>\n",
       "      <td>0</td>\n",
       "      <td>71.2833</td>\n",
       "    </tr>\n",
       "    <tr>\n",
       "      <th>2</th>\n",
       "      <td>1</td>\n",
       "      <td>3</td>\n",
       "      <td>female</td>\n",
       "      <td>26.0</td>\n",
       "      <td>0</td>\n",
       "      <td>0</td>\n",
       "      <td>7.9250</td>\n",
       "    </tr>\n",
       "    <tr>\n",
       "      <th>3</th>\n",
       "      <td>1</td>\n",
       "      <td>1</td>\n",
       "      <td>female</td>\n",
       "      <td>35.0</td>\n",
       "      <td>1</td>\n",
       "      <td>0</td>\n",
       "      <td>53.1000</td>\n",
       "    </tr>\n",
       "    <tr>\n",
       "      <th>4</th>\n",
       "      <td>0</td>\n",
       "      <td>3</td>\n",
       "      <td>male</td>\n",
       "      <td>35.0</td>\n",
       "      <td>0</td>\n",
       "      <td>0</td>\n",
       "      <td>8.0500</td>\n",
       "    </tr>\n",
       "  </tbody>\n",
       "</table>\n",
       "</div>"
      ],
      "text/plain": [
       "   Survived  Pclass     Sex   Age  SibSp  Parch     Fare\n",
       "0         0       3    male  22.0      1      0   7.2500\n",
       "1         1       1  female  38.0      1      0  71.2833\n",
       "2         1       3  female  26.0      0      0   7.9250\n",
       "3         1       1  female  35.0      1      0  53.1000\n",
       "4         0       3    male  35.0      0      0   8.0500"
      ]
     },
     "execution_count": 76,
     "metadata": {},
     "output_type": "execute_result"
    }
   ],
   "source": [
    "dfData = dfTrain\n",
    "dfData = dfData.dropna()\n",
    "dfData.head()"
   ]
  },
  {
   "cell_type": "code",
   "execution_count": 77,
   "metadata": {},
   "outputs": [],
   "source": [
    "X = dfData.drop([\"Survived\"], axis=1)\n",
    "y = dfData[\"Survived\"]"
   ]
  },
  {
   "cell_type": "code",
   "execution_count": 78,
   "metadata": {},
   "outputs": [],
   "source": [
    "X_train, X_test, y_train, y_test = train_test_split(X, y, test_size=0.10, random_state=1987)\n",
    "X_train, X_val, y_train, y_val = train_test_split(X_train, y_train, test_size=0.10, random_state=1987)"
   ]
  },
  {
   "cell_type": "code",
   "execution_count": 79,
   "metadata": {},
   "outputs": [
    {
     "name": "stdout",
     "output_type": "stream",
     "text": [
      "Set Information :\n",
      "Train: 577, Validation: 65, Test: 72\n",
      "===========================================\n",
      "\n"
     ]
    }
   ],
   "source": [
    "dfTrain = pd.concat([X_train, y_train], axis=1)\n",
    "dfVal = pd.concat([X_val, y_val], axis=1)\n",
    "dfTest = pd.concat([X_test, y_test], axis=1)\n",
    "print(\"Set Information :\")\n",
    "print(\"Train: {}, Validation: {}, Test: {}\".format(dfTrain.shape[0], dfVal.shape[0], dfTest.shape[0]))\n",
    "print(\"===========================================\\n\")"
   ]
  },
  {
   "cell_type": "code",
   "execution_count": 80,
   "metadata": {},
   "outputs": [],
   "source": [
    "lbl = preprocessing.LabelEncoder()\n",
    "y_train = lbl.fit_transform(y_train)\n",
    "y_val = lbl.fit_transform(y_val)\n",
    "y_test = lbl.fit_transform(y_test)\n",
    "\n",
    "X_train[\"Sex\"] = lbl.fit_transform(X_train[\"Sex\"])\n",
    "X_val[\"Sex\"] = lbl.fit_transform(X_val[\"Sex\"])\n",
    "X_test[\"Sex\"] = lbl.fit_transform(X_test[\"Sex\"])"
   ]
  },
  {
   "cell_type": "code",
   "execution_count": 81,
   "metadata": {},
   "outputs": [],
   "source": [
    "model = svm.SVC(gamma='scale', decision_function_shape='ovo')\n",
    "model.fit(X_train, y_train)\n",
    "pred_val = model.predict(X_val)\n",
    "pred_test = model.predict(X_test)"
   ]
  },
  {
   "cell_type": "code",
   "execution_count": 83,
   "metadata": {},
   "outputs": [
    {
     "name": "stdout",
     "output_type": "stream",
     "text": [
      "Validation Target :\n",
      "[0 1 0 0 1 0 0 1 0 0 1 1 1 0 1 1 1 1 0 1 0 1 0 0 1 0 0 0 0 1 0 1 1 0 1 1 0\n",
      " 1 0 1 0 1 1 1 0 1 0 0 0 0 1 0 0 1 0 0 0 0 0 0 1 0 1 0 0]\n",
      "Validation Predict :\n",
      "[0 1 0 0 0 0 0 0 1 0 1 0 1 1 1 0 0 0 0 1 0 1 0 1 0 0 0 0 0 0 0 0 1 0 0 0 0\n",
      " 1 0 0 0 1 0 0 0 0 0 0 0 0 0 0 0 1 0 0 0 0 0 0 0 0 0 0 0]\n",
      "=================\n",
      "\n",
      "Test Target :\n",
      "[0 0 1 0 0 0 0 1 0 1 1 0 1 1 0 0 1 1 0 1 0 0 0 1 1 1 1 0 0 0 0 1 0 0 0 1 1\n",
      " 0 0 1 0 1 0 0 1 1 0 0 0 0 0 1 1 1 1 1 1 1 0 0 1 0 0 0 1 1 1 0 1 0 1 1]\n",
      "Test Predict :\n",
      "[0 0 1 0 0 0 0 0 0 0 0 0 0 0 0 0 1 0 0 0 0 1 0 0 1 1 0 0 0 0 0 1 0 0 0 1 0\n",
      " 0 1 0 0 0 0 0 1 0 0 0 0 0 0 0 0 0 0 0 0 0 0 0 0 0 0 0 0 0 1 0 0 0 1 1]\n",
      "=================\n",
      "\n",
      "Accuracy_score:\n",
      "Validation: 0.676923076923077\n",
      "Test: 0.6388888888888888\n",
      "===========================================\n",
      "\n",
      "Classification_report (Validation Set):\n",
      "              precision    recall  f1-score   support\n",
      "\n",
      "           0       0.65      0.92      0.76        37\n",
      "           1       0.77      0.36      0.49        28\n",
      "\n",
      "    accuracy                           0.68        65\n",
      "   macro avg       0.71      0.64      0.63        65\n",
      "weighted avg       0.70      0.68      0.65        65\n",
      "\n",
      "===========================================\n",
      "\n",
      "Classification_report (Test Set):\n",
      "              precision    recall  f1-score   support\n",
      "\n",
      "           0       0.60      0.95      0.73        38\n",
      "           1       0.83      0.29      0.43        34\n",
      "\n",
      "    accuracy                           0.64        72\n",
      "   macro avg       0.72      0.62      0.58        72\n",
      "weighted avg       0.71      0.64      0.59        72\n",
      "\n"
     ]
    }
   ],
   "source": [
    "print(\"Validation Target :\\n{}\".format(y_val))\n",
    "print(\"Validation Predict :\\n{}\".format(pred_val))\n",
    "print(\"=================\\n\")\n",
    "print(\"Test Target :\\n{}\".format(y_test))\n",
    "print(\"Test Predict :\\n{}\".format(pred_test))\n",
    "print(\"=================\\n\")\n",
    "print(\"Accuracy_score:\\nValidation: {}\\nTest: {}\".format(accuracy_score(y_val, pred_val), accuracy_score(y_test, pred_test)))\n",
    "print(\"===========================================\\n\")\n",
    "print(\"Classification_report (Validation Set):\\n{}\".format(classification_report(y_val, pred_val)))\n",
    "print(\"===========================================\\n\")\n",
    "print(\"Classification_report (Test Set):\\n{}\".format(classification_report(y_test, pred_test)))"
   ]
  },
  {
   "cell_type": "code",
   "execution_count": null,
   "metadata": {},
   "outputs": [],
   "source": []
  }
 ],
 "metadata": {
  "kernelspec": {
   "display_name": "Python 3",
   "language": "python",
   "name": "python3"
  },
  "language_info": {
   "codemirror_mode": {
    "name": "ipython",
    "version": 3
   },
   "file_extension": ".py",
   "mimetype": "text/x-python",
   "name": "python",
   "nbconvert_exporter": "python",
   "pygments_lexer": "ipython3",
   "version": "3.7.3"
  }
 },
 "nbformat": 4,
 "nbformat_minor": 4
}
